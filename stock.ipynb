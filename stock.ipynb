{
 "cells": [
  {
   "cell_type": "code",
   "execution_count": 13,
   "id": "b3f3175a-7ff9-491d-a9da-72e0fd1f298d",
   "metadata": {},
   "outputs": [
    {
     "ename": "SyntaxError",
     "evalue": "invalid syntax (2620911163.py, line 2)",
     "output_type": "error",
     "traceback": [
      "\u001b[0;36m  Cell \u001b[0;32mIn[13], line 2\u001b[0;36m\u001b[0m\n\u001b[0;31m    import krx_competition_xx import trade_func\u001b[0m\n\u001b[0m                              ^\u001b[0m\n\u001b[0;31mSyntaxError\u001b[0m\u001b[0;31m:\u001b[0m invalid syntax\n"
     ]
    }
   ],
   "source": [
    "import kquant as kq\n",
    "import krx_competition_xx import trade_func"
   ]
  },
  {
   "cell_type": "code",
   "execution_count": 8,
   "id": "23148530-f098-463d-af4a-914f2aa12dac",
   "metadata": {},
   "outputs": [
    {
     "name": "stderr",
     "output_type": "stream",
     "text": [
      "2023-09-30 19:09:59.980580: I tensorflow/tsl/cuda/cudart_stub.cc:28] Could not find cuda drivers on your machine, GPU will not be used.\n",
      "2023-09-30 19:10:02.059044: I tensorflow/tsl/cuda/cudart_stub.cc:28] Could not find cuda drivers on your machine, GPU will not be used.\n",
      "2023-09-30 19:10:02.065459: I tensorflow/core/platform/cpu_feature_guard.cc:182] This TensorFlow binary is optimized to use available CPU instructions in performance-critical operations.\n",
      "To enable the following instructions: AVX2 FMA, in other operations, rebuild TensorFlow with the appropriate compiler flags.\n",
      "2023-09-30 19:10:06.788433: W tensorflow/compiler/tf2tensorrt/utils/py_utils.cc:38] TF-TRT Warning: Could not find TensorRT\n"
     ]
    }
   ],
   "source": [
    "from tensorflow import keras\n",
    "from tensorflow.keras.models import Sequential\n",
    "import tensorflow as tf\n",
    "\n",
    "import pandas as pd\n",
    "import numpy as np\n",
    "import matplotlib.pyplot as plt\n",
    "import seaborn as sns\n",
    "\n",
    "from sklearn.preprocessing import  LabelEncoder\n",
    "from sklearn.preprocessing import MinMaxScaler\n",
    "from sklearn.decomposition import PCA\n",
    "from sklearn.model_selection import KFold\n",
    "\n",
    "from sklearn.model_selection import train_test_split\n",
    "\n",
    "from tensorflow.keras.layers import LSTM, Dense\n",
    "\n",
    "from sklearn.metrics import mean_squared_error, r2_score,mean_absolute_error"
   ]
  },
  {
   "cell_type": "code",
   "execution_count": 9,
   "id": "0929d0d8-a399-464a-afeb-d77135c57bba",
   "metadata": {},
   "outputs": [
    {
     "ename": "NameError",
     "evalue": "name 'trade_func' is not defined",
     "output_type": "error",
     "traceback": [
      "\u001b[0;31m---------------------------------------------------------------------------\u001b[0m",
      "\u001b[0;31mNameError\u001b[0m                                 Traceback (most recent call last)",
      "Cell \u001b[0;32mIn[9], line 2\u001b[0m\n\u001b[1;32m      1\u001b[0m dict_df_result \u001b[38;5;241m=\u001b[39m kq\u001b[38;5;241m.\u001b[39mbacktest_stock_port_daily(\n\u001b[0;32m----> 2\u001b[0m     \u001b[43mtrade_func\u001b[49m,\n\u001b[1;32m      3\u001b[0m     \u001b[38;5;124m\"\u001b[39m\u001b[38;5;124m2021-01-02\u001b[39m\u001b[38;5;124m\"\u001b[39m,\n\u001b[1;32m      4\u001b[0m     \u001b[38;5;124m\"\u001b[39m\u001b[38;5;124m2022-05-31\u001b[39m\u001b[38;5;124m\"\u001b[39m,\n\u001b[1;32m      5\u001b[0m     init_cash\u001b[38;5;241m=\u001b[39m\u001b[38;5;241m1_000_000_000\u001b[39m,\n\u001b[1;32m      6\u001b[0m )\n",
      "\u001b[0;31mNameError\u001b[0m: name 'trade_func' is not defined"
     ]
    }
   ],
   "source": [
    "dict_df_result = kq.backtest_stock_port_daily(\n",
    "    trade_func,\n",
    "    \"2021-01-02\",\n",
    "    \"2022-05-31\",\n",
    "    init_cash=1_000_000_000,\n",
    ")"
   ]
  },
  {
   "cell_type": "code",
   "execution_count": null,
   "id": "32655086-632b-48fe-aa2f-47ab9aabbe8f",
   "metadata": {},
   "outputs": [],
   "source": [
    "dict_df_result"
   ]
  },
  {
   "cell_type": "code",
   "execution_count": null,
   "id": "184dfb8c-0d11-4191-9b5b-ecb4b155dfc3",
   "metadata": {},
   "outputs": [],
   "source": [
    "'''\n",
    "DATE: 거래일\n",
    "SYMBOL: 종목 코드\n",
    "PRICE: 거래 주가\n",
    "ORDER: 주문 유형 (BUY 또는 SELL)\n",
    "QTY: 거래 수량\n",
    "TRADE_PRICE: 실제 거래 주가\n",
    "POSITION: 보유 포지션 (주식 수)\n",
    "AVG_PRICE: 평균 매입가\n",
    "FEE: 거래 수수료\n",
    "TRADE_TAX: 거래세\n",
    "SLIPPAGE: 슬리피지\n",
    "CASHFLOW: 현금 흐름 (입출금)\n",
    "CASH: 보유 현금\n",
    "HIST_VALUE: 매수 총액\n",
    "STOCK_VALUE: 보유 주식의 총액\n",
    "TOTAL_VALUE: 총 자산 가치 (현금 + 주식 가치)\n",
    "REAL_PROFIT: 실현 수익률\n",
    "UNREAL_PROFIT: 미실현 수익률\n",
    "PROFIT: 총 수익률\n",
    "HIGHWATERMARK: 최고 자산 가치\n",
    "DRAWDOWN: 최대 손실률\n",
    "'''"
   ]
  },
  {
   "cell_type": "code",
   "execution_count": null,
   "id": "f60d311f-f4f8-463b-b557-d87c01788afd",
   "metadata": {},
   "outputs": [],
   "source": [
    "# 금리 feature에 추가 (한국은행 기준)\n",
    "dict_df_result['INT']=0\n",
    "\n",
    "#금리 삽입\n",
    "# 20210601 ~ 20210825 : 0.5\n",
    "dict_df_result['INT'] = np.where((dict_df_result['일자'] >= 20210601) & (dict_df_result['INT'] <= 20210825), 0.5, dict_df_result['INT'])\n",
    "\n",
    "# 20210826 ~ 20211124 : 0.75\n",
    "dict_df_result['INT'] = np.where((dict_df_result['일자'] >= 20210826) & (dict_df_result['일자'] <= 20211124), 0.75, dict_df_result['INT'])\n",
    "\n",
    "# 20211125 ~ 20220113 : 1.0\n",
    "dict_df_result['INT'] = np.where((dict_df_result['일자'] >= 20211125) & (dict_df_result['일자'] <= 20220113), 1.0, dict_df_result['INT'])\n",
    "\n",
    "# 20220114 ~ 20220413 : 1.25\n",
    "dict_df_result['INT'] = np.where((dict_df_result['일자'] >= 20220114) & (dict_df_result['일자'] <= 20220413), 1.25, dict_df_result['INT'])\n",
    "\n",
    "# 20220414 ~ 20220525 : 1.5\n",
    "dict_df_result['INT'] = np.where((dict_df_result['일자'] >= 20220414) & (dict_df_result['일자'] <= 20220525), 1.5, dict_df_result['INT'])\n",
    "\n",
    "# 20220526 ~ 20220712 : 1.75\n",
    "dict_df_result['INT'] = np.where((dict_df_result['일자'] >= 20220526) & (dict_df_result['일자'] <= 20220712), 1.75, dict_df_result['INT'])\n",
    "\n",
    "# 20220713 ~ 20220824 : 2.25\n",
    "dict_df_result['INT'] = np.where((dict_df_result['일자'] >= 20220713) & (dict_df_result['일자'] <= 20220824), 2.25, dict_df_result['INT'])\n",
    "\n",
    "# 20220825 ~ 20221011 : 2.5\n",
    "dict_df_result['INT'] = np.where((dict_df_result['일자'] >= 20220825) & (dict_df_result['일자'] <= 20221011), 2.5, dict_df_result['INT'])\n",
    "\n",
    "# 20221012 ~ 20221123 : 3.0\n",
    "dict_df_result['INT'] = np.where((dict_df_result['일자'] >= 20221012) & (dict_df_result['일자'] <= 20221123), 3.0, dict_df_result['INT'])\n",
    "\n",
    "# 20221124 ~ 20230112 : 3.25\n",
    "dict_df_result['INT'] = np.where((dict_df_result['일자'] >= 20221124) & (dict_df_result['일자'] <= 20230112), 3.25, dict_df_result['INT'])\n",
    "\n",
    "# 20230113 ~ 지금 : 3.5\n",
    "dict_df_result['INT'] = np.where((dict_df_result['일자'] >= 20230113) , 3.5, dict_df_result['INT'])"
   ]
  },
  {
   "cell_type": "code",
   "execution_count": null,
   "id": "5b31f0ae-2491-4341-a02d-dfa7cb782378",
   "metadata": {},
   "outputs": [],
   "source": [
    "# 인플레이션(오르면 내려감), 소비자물가지수(CPI) (KOSTAT - Korea 기준)\n",
    "dict_df_result['CPI']=0\n",
    "\n",
    "# CPI 삽입\n",
    "# 20210601 : 2.30 %\n",
    "dict_df_result['CPI'] = np.where((dict_df_result['일자'] == 20210601) , 2.30, dict_df_result['CPI'])\n",
    "\n",
    "# 20210602 ~ 20210701 : 2.60 % \n",
    "dict_df_result['CPI'] = np.where((dict_df_result['일자'] >= 20210602) & (dict_df_result['일자'] <= 20210701), 2.60, dict_df_result['CPI'])\n",
    "\n",
    "# 20210702 ~ 20210802 : 2.40 % \n",
    "dict_df_result['CPI'] = np.where((dict_df_result['일자'] >= 20210702) & (dict_df_result['일자'] <= 20210802), 2.40, dict_df_result['CPI'])\n",
    "\n",
    "# 20210803 ~ 20211005 : 2.60 %\n",
    "dict_df_result['CPI'] = np.where((dict_df_result['일자'] >= 20210803) & (dict_df_result['일자'] <= 20211005), 2.60, dict_df_result['CPI'])\n",
    "\n",
    "# 20211006 ~ 20211101 : 2.50 %\n",
    "dict_df_result['CPI'] = np.where((dict_df_result['일자'] >= 20211006) & (dict_df_result['일자'] <= 20211101), 2.50, dict_df_result['CPI'])\n",
    "\n",
    "# 20211102 ~ 20211201 : 3.20 %\n",
    "dict_df_result['CPI'] = np.where((dict_df_result['일자'] >= 20211102) & (dict_df_result['일자'] <= 20211201), 3.20, dict_df_result['CPI'])\n",
    "\n",
    "# 20211202 ~ 20220203 : 3.70 %\n",
    "dict_df_result['CPI'] = np.where((dict_df_result['일자'] >= 20211202) & (dict_df_result['일자'] <= 20220203), 3.70, dict_df_result['CPI'])\n",
    "\n",
    "# 20220204 ~ 20220303 : 3.60 %\n",
    "dict_df_result['CPI'] = np.where((dict_df_result['일자'] >= 20220204) & (dict_df_result['일자'] <= 20220303), 3.60, dict_df_result['CPI'])\n",
    "\n",
    "# 20220304 ~ 20220404 : 3.70 %\n",
    "dict_df_result['CPI'] = np.where((dict_df_result['일자'] >= 20220304) & (dict_df_result['일자'] <= 20220404), 3.70, dict_df_result['CPI'])\n",
    "\n",
    "# 20220405 ~ 20220502 : 4.10 %\n",
    "dict_df_result['CPI'] = np.where((dict_df_result['일자'] >= 20220405) & (dict_df_result['일자'] <= 20220502), 4.10, dict_df_result['CPI'])\n",
    "\n",
    "# 20220503 ~ 20220602 : 4.80 %\n",
    "dict_df_result['CPI'] = np.where((dict_df_result['일자'] >= 20220503) & (dict_df_result['일자'] <= 20220602), 4.80, dict_df_result['CPI'])\n",
    "\n",
    "# 20220603 ~ 20220704 : 5.40 %\n",
    "dict_df_result['CPI'] = np.where((dict_df_result['일자'] >= 20220603) & (dict_df_result['일자'] <= 20220704), 5.40, dict_df_result['CPI'])\n",
    "\n",
    "# 20220705 ~ 20220801 : 6.00 %\n",
    "dict_df_result['CPI'] = np.where((dict_df_result['일자'] >= 20220705) & (dict_df_result['일자'] <= 20220801), 6.00, dict_df_result['CPI'])\n",
    "\n",
    "# 20220802 ~ 20220901 : 6.30 %\n",
    "dict_df_result['CPI'] = np.where((dict_df_result['일자'] >= 20220802) & (dict_df_result['일자'] <= 20220901), 6.30, dict_df_result['CPI'])\n",
    "\n",
    "# 20220902 ~ 20221004 : 5.70 %\n",
    "dict_df_result['CPI'] = np.where((dict_df_result['일자'] >= 20220902) & (dict_df_result['일자'] <= 20221004), 5.70, dict_df_result['CPI'])\n",
    "\n",
    "# 20221005 ~ 20221101 : 5.60 %\n",
    "dict_df_result['CPI'] = np.where((dict_df_result['일자'] >= 20221005) & (dict_df_result['일자'] <= 20221101), 5.60, dict_df_result['CPI'])\n",
    "\n",
    "# 20221102 ~ 20221201 : 5.70 %\n",
    "dict_df_result['CPI'] = np.where((dict_df_result['일자'] >= 20221102) & (dict_df_result['일자'] <= 20221201), 5.70, dict_df_result['CPI'])\n",
    "\n",
    "# 20221202 ~ 20230201 5.00 %\n",
    "dict_df_result['CPI'] = np.where((dict_df_result['일자'] >= 20221202) & (dict_df_result['일자'] <= 20230201), 5.00, dict_df_result['CPI'])\n",
    "\n",
    "# 20230202 ~ 20230305 5.20 %\n",
    "dict_df_result['CPI'] = np.where((dict_df_result['일자'] >= 20230202) & (dict_df_result['일자'] <= 20230305), 5.20, dict_df_result['CPI'])\n",
    "\n",
    "# 20230306 ~ 20230403 4.80 %\n",
    "dict_df_result['CPI'] = np.where((dict_df_result['일자'] >= 20230306) & (dict_df_result['일자'] <= 20230403), 4.80, dict_df_result['CPI'])\n",
    "\n",
    "# 20230404 ~ 20230501 : 4.20 %\n",
    "dict_df_result['CPI'] = np.where((dict_df_result['일자'] >= 20230404) & (dict_df_result['일자'] <= 20230501), 4.20, dict_df_result['CPI'])\n",
    "\n",
    "# 20230502 ~ 20230601 : 3.30 %\n",
    "dict_df_result['CPI'] = np.where((dict_df_result['일자'] >= 20230502) & (dict_df_result['일자'] <= 20230601), 3.30, dict_df_result['CPI'])"
   ]
  },
  {
   "cell_type": "code",
   "execution_count": null,
   "id": "aedbb8c0-2852-40fc-81e8-5efe4f8f5b4f",
   "metadata": {},
   "outputs": [],
   "source": [
    "# 경제성장률 (아시아경제은행 기준)\n",
    "# 경제성장률 = [(금년도 실질GDP - 전년도 실질GDP) ÷ 전년도 실질GDP] × 100\n",
    "\n",
    "dict_df_result['REG']=0\n",
    "\n",
    "# 2021 : 4.3 %\n",
    "dict_df_result['REG'] = np.where((dict_df_result['일자'] >= 20210601) & (dict_df_result['일자'] <= 20211231), 4.3, dict_df_result['REG'])\n",
    "\n",
    "# 2022 : 2.6 %\n",
    "dict_df_result['REG'] = np.where((dict_df_result['일자'] >= 20220101) & (dict_df_result['일자'] <= 20221231), 2.6, dict_df_result['REG'])\n",
    "\n",
    "# 2023 : 1.3 %\n",
    "dict_df_result['REG'] = np.where((dict_df_result['일자'] >= 20230101) & (dict_df_result['일자'] <= 20230530), 1.3, dict_df_result['REG'])"
   ]
  },
  {
   "cell_type": "code",
   "execution_count": null,
   "id": "e0583fa4-81c7-40cb-b9ae-80b87306a25d",
   "metadata": {},
   "outputs": [],
   "source": [
    "dict_df_result = dict_df_result.astype(\"float\")"
   ]
  },
  {
   "cell_type": "code",
   "execution_count": null,
   "id": "c1353811-f3b1-4897-85e5-9b562a27d5be",
   "metadata": {},
   "outputs": [],
   "source": [
    "st=dict_df_result.copy()"
   ]
  },
  {
   "cell_type": "code",
   "execution_count": null,
   "id": "e0c1c77b-58b9-4e21-a55d-79ea6cc43b68",
   "metadata": {},
   "outputs": [],
   "source": [
    "#그룹별로 묶기 \n",
    "stock_group = dict_df_result.groupby('SYMBOL')"
   ]
  },
  {
   "cell_type": "code",
   "execution_count": null,
   "id": "f50f1dea-a5f5-41be-84c3-e593b6d25741",
   "metadata": {},
   "outputs": [],
   "source": [
    "stock_group = stock_group[['DATE', 'PRICE', 'ORDER', 'QTY', 'TRADE_PRICE', 'POSITION','AVG_PRICE','FEE','TRADE_TAX','SLIPPAGE','CASHFLOW','CASH','HIST_VALUE','STOCK_VALUE','TOTAL_VALUE','REAL_PROFIT','UNREAL_PROFIT','HIGHWATERMARK','DRAWDOWN', 'INT','CPI', 'REG', 'PROFIT']]"
   ]
  },
  {
   "cell_type": "code",
   "execution_count": null,
   "id": "a4ff4855-974c-41b9-aa78-7d836401d3b0",
   "metadata": {},
   "outputs": [],
   "source": [
    "# 정규화하기\n",
    "# MinMaxScaler 클래스 생성\n",
    "scaler = MinMaxScaler()\n",
    "\n",
    "# MinMaxScaler 클래스의 fit_transform() 메서드 사용 데이터 정규화\n",
    "normalized_data = scaler.fit_transform(stock_group)\n",
    "\n",
    "# 정규화된 데이터, 데이터 프레임으로 다시 변환\n",
    "ndf = pd.DataFrame(normalized_data, columns=stock_group.columns)"
   ]
  },
  {
   "cell_type": "code",
   "execution_count": null,
   "id": "b1629b14-8058-4cc7-9420-07856b77fe85",
   "metadata": {},
   "outputs": [],
   "source": [
    "# 데이터 나누기\n",
    "X = ndf.iloc[:, :-1]\n",
    "y = ndf.iloc[:,[-1]]\n",
    "\n",
    "X_train, X_test, y_train, y_test = train_test_split(X, y, test_size=0.2)"
   ]
  },
  {
   "cell_type": "code",
   "execution_count": null,
   "id": "5f9b2853-3e07-4789-9bbb-e323423cfc4a",
   "metadata": {},
   "outputs": [],
   "source": [
    "from tensorflow.keras.layers import Dropout\n",
    "\n",
    "from tensorflow.keras.initializers import GlorotUniform\n",
    "from tensorflow.keras.regularizers import l2"
   ]
  },
  {
   "cell_type": "code",
   "execution_count": null,
   "id": "b3df34f3-771b-4d48-b552-ce5832c8a3ff",
   "metadata": {},
   "outputs": [],
   "source": [
    "tf.random.set_seed(1)\n",
    "\n",
    "model = Sequential()\n",
    "\n",
    "model.add(LSTM(128, activation='relu', return_sequences=True,  input_shape=(ndf.shape[1] - 1, 1)))\n",
    "model.add(LSTM(units=128, activation='relu'))\n",
    "model.add(tf.keras.layers.Dropout(0.4))\n",
    "model.add(Dense(1))\n",
    "model.compile(optimizer=keras.optimizers.Adam(learning_rate=0.001), loss='mse')\n",
    "\n",
    "model.summary()"
   ]
  },
  {
   "cell_type": "code",
   "execution_count": null,
   "id": "1fef632d-29d8-44a0-ae71-5078395e2e76",
   "metadata": {},
   "outputs": [],
   "source": [
    "# 학습하기\n",
    "history = model.fit(X_train, y_train, epochs=12, batch_size=80, validation_split=0.2, verbose=1)"
   ]
  },
  {
   "cell_type": "code",
   "execution_count": null,
   "id": "76f1aebf-800f-424a-b992-983fcc873ce2",
   "metadata": {},
   "outputs": [],
   "source": [
    "# 예측하기\n",
    "pred = model.predict(X_test)"
   ]
  },
  {
   "cell_type": "code",
   "execution_count": null,
   "id": "d67280dd-078c-4daa-85ff-bff4b30180d6",
   "metadata": {},
   "outputs": [],
   "source": [
    "predictions = np.array(pred)\n",
    "actual_values = np.array(y_test)"
   ]
  },
  {
   "cell_type": "code",
   "execution_count": null,
   "id": "2ad9769a-c242-4b73-aa13-a17dc0251c88",
   "metadata": {},
   "outputs": [],
   "source": []
  },
  {
   "cell_type": "code",
   "execution_count": null,
   "id": "dd852eba-2c64-44a0-8243-810c607688e0",
   "metadata": {},
   "outputs": [],
   "source": [
    "# 모델 예측하기 (전체)"
   ]
  },
  {
   "cell_type": "code",
   "execution_count": null,
   "id": "d860539a-882f-48a5-a41f-aefb52aa2ab6",
   "metadata": {},
   "outputs": [],
   "source": [
    "x_data = ndf.iloc[:, :-1]\n",
    "y_data = ndf.iloc[:,[-1]]"
   ]
  },
  {
   "cell_type": "code",
   "execution_count": null,
   "id": "173c4c79-c8c8-442e-b5b3-81a017a3612a",
   "metadata": {},
   "outputs": [],
   "source": [
    "predict_close = model.predict(x_data)"
   ]
  },
  {
   "cell_type": "code",
   "execution_count": null,
   "id": "d7e0afcc-6343-4394-b807-6351b712dbd1",
   "metadata": {},
   "outputs": [],
   "source": [
    "x_data['predict_close'] = predict_close\n",
    "x_data['real_close'] = y_data['PROFIT']"
   ]
  },
  {
   "cell_type": "code",
   "execution_count": null,
   "id": "0503f590-a10a-4c1d-8fad-05c4a7cb2ac9",
   "metadata": {},
   "outputs": [],
   "source": [
    "x_data['SYMBOL'] = st['SYMBOL']"
   ]
  },
  {
   "cell_type": "code",
   "execution_count": null,
   "id": "3daca4a3-b4ce-40ae-ab2c-b12dfb4d608e",
   "metadata": {},
   "outputs": [],
   "source": [
    "re = x_data[['predict_close', 'real_close']]"
   ]
  },
  {
   "cell_type": "code",
   "execution_count": null,
   "id": "4d89f3ce-3dbe-44a5-8bae-091db6df256c",
   "metadata": {},
   "outputs": [],
   "source": [
    "max_value = 1.770000e+06\n",
    "min_value= 8.500000e+01\n",
    "    \n",
    "re['predict_close'] = re['predict_close'] * (max_value - min_value) + min_value\n",
    "re['real_close'] = re['real_close'] * (max_value - min_value) + min_value    "
   ]
  },
  {
   "cell_type": "code",
   "execution_count": null,
   "id": "7cdb8a72-7fd5-4bc3-9d8c-6f336b2df5e6",
   "metadata": {},
   "outputs": [],
   "source": [
    "re['return'] = (re['predict_close'] - re['real_close']) / re['real_close']"
   ]
  },
  {
   "cell_type": "code",
   "execution_count": null,
   "id": "779ef29c-db03-4a6b-b343-069f6f4e9e2a",
   "metadata": {},
   "outputs": [],
   "source": [
    "re['SYMBOL'] = st['SYMBOL']"
   ]
  },
  {
   "cell_type": "code",
   "execution_count": null,
   "id": "1eee6f86-44a5-45a0-8ed7-883276d8e163",
   "metadata": {},
   "outputs": [],
   "source": [
    "res_data = re[['SYMBOL','return']]"
   ]
  },
  {
   "cell_type": "code",
   "execution_count": null,
   "id": "7f3b4e21-5168-4e94-8031-c5b735ae06f3",
   "metadata": {},
   "outputs": [],
   "source": [
    "# 마이너스값 양수로 만들어주기, 수익률은 -1보다 크기 때문에 그냥 1을 더해 양수로 만드어준다.\n",
    "# (수익률 문제라 같은 값으로 더해주면 크게 상관없음)\n",
    "res_data['re_return'] = res_data['return'].map(lambda x: x+1)"
   ]
  },
  {
   "cell_type": "code",
   "execution_count": null,
   "id": "91afd597-a3da-4412-b2d7-fddaec9489fd",
   "metadata": {},
   "outputs": [],
   "source": [
    "res_data = res_data.sort_values(\"re_return\", ascending=False)\n",
    "res_data[\"re_return_rank\"] = res_data[\"re_return\"].rank(ascending=False)"
   ]
  },
  {
   "cell_type": "code",
   "execution_count": null,
   "id": "04247c1b-5610-4e79-8e2e-2cc9c7ea81b0",
   "metadata": {},
   "outputs": [],
   "source": [
    "res_data[\"re_return_rank\"] = res_data[\"re_return_rank\"].astype(int)"
   ]
  },
  {
   "cell_type": "code",
   "execution_count": null,
   "id": "b81cb8f8-8806-445f-8ce9-b1c0d91b31db",
   "metadata": {},
   "outputs": [],
   "source": [
    "final = res_data[['SYMBOL','re_return_rank']]"
   ]
  },
  {
   "cell_type": "code",
   "execution_count": null,
   "id": "f94f95d4-a94d-4643-9f56-6783e5304a16",
   "metadata": {},
   "outputs": [],
   "source": [
    "final.rename(columns={'SYMBOL': '종목코드', 're_return_rank': '순위'}, inplace=True)"
   ]
  },
  {
   "cell_type": "code",
   "execution_count": null,
   "id": "f7a6ab4e-c463-421d-9e4f-43be76a15772",
   "metadata": {},
   "outputs": [],
   "source": [
    "final"
   ]
  }
 ],
 "metadata": {
  "kernelspec": {
   "display_name": "Python 3 (ipykernel)",
   "language": "python",
   "name": "python3"
  },
  "language_info": {
   "codemirror_mode": {
    "name": "ipython",
    "version": 3
   },
   "file_extension": ".py",
   "mimetype": "text/x-python",
   "name": "python",
   "nbconvert_exporter": "python",
   "pygments_lexer": "ipython3",
   "version": "3.10.13"
  }
 },
 "nbformat": 4,
 "nbformat_minor": 5
}
